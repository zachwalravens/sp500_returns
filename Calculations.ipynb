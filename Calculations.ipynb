{
 "cells": [
  {
   "cell_type": "code",
   "execution_count": 2,
   "id": "7ed8d314-8fd7-4954-8660-11ca4661f757",
   "metadata": {},
   "outputs": [],
   "source": [
    "import pandas as pd"
   ]
  },
  {
   "cell_type": "code",
   "execution_count": 3,
   "id": "0a3483fa-55a2-4e79-aa0b-9716c0c35ab5",
   "metadata": {},
   "outputs": [],
   "source": [
    "df = pd.read_csv(\"real_returns.csv\")"
   ]
  },
  {
   "cell_type": "code",
   "execution_count": 4,
   "id": "a6659e6f-946f-4654-8f3c-3d7b55d3fe25",
   "metadata": {},
   "outputs": [],
   "source": [
    "percentiles = [1, 5, 20, 50, 80, 95, 99]\n",
    "percentile_data = {f\"p{p}\":[] for p in percentiles}\n",
    "for i in range(50):\n",
    "    returns = 100 * df['Real Amount']/df['Real Amount'].shift(12*i)\n",
    "    for percentile in percentiles:\n",
    "        percentile_data[f\"p{percentile}\"].append(returns.quantile(percentile/100))"
   ]
  },
  {
   "cell_type": "code",
   "execution_count": 5,
   "id": "f35e82a2-9411-4a5f-a389-bcc2f5cc39ab",
   "metadata": {},
   "outputs": [],
   "source": [
    "results_df = pd.DataFrame(percentile_data)"
   ]
  },
  {
   "cell_type": "code",
   "execution_count": 8,
   "id": "a4b381be-a654-4b11-9073-caa62a1b398b",
   "metadata": {},
   "outputs": [],
   "source": [
    "results_df.to_csv(\"results.csv\", index_label=\"time\")"
   ]
  },
  {
   "cell_type": "code",
   "execution_count": null,
   "id": "32d62d4c-81b2-4315-926f-cc8b6a2afe20",
   "metadata": {},
   "outputs": [],
   "source": []
  },
  {
   "cell_type": "code",
   "execution_count": null,
   "id": "d490dbb6-9cc4-4be1-bb2b-f912dbe4aab5",
   "metadata": {},
   "outputs": [],
   "source": []
  }
 ],
 "metadata": {
  "kernelspec": {
   "display_name": "Python 3 (ipykernel)",
   "language": "python",
   "name": "python3"
  },
  "language_info": {
   "codemirror_mode": {
    "name": "ipython",
    "version": 3
   },
   "file_extension": ".py",
   "mimetype": "text/x-python",
   "name": "python",
   "nbconvert_exporter": "python",
   "pygments_lexer": "ipython3",
   "version": "3.9.6"
  }
 },
 "nbformat": 4,
 "nbformat_minor": 5
}
